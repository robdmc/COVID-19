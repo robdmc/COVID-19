{
 "cells": [
  {
   "cell_type": "code",
   "execution_count": 15,
   "metadata": {},
   "outputs": [],
   "source": [
    "import numpy as np\n",
    "np.set_printoptions(precision=3, suppress=True, threshold=10000)\n",
    "from scipy import linalg"
   ]
  },
  {
   "cell_type": "code",
   "execution_count": 10,
   "metadata": {},
   "outputs": [],
   "source": []
  },
  {
   "cell_type": "code",
   "execution_count": null,
   "metadata": {},
   "outputs": [],
   "source": []
  },
  {
   "cell_type": "code",
   "execution_count": 53,
   "metadata": {},
   "outputs": [],
   "source": [
    "# x = np.arange(15)\n",
    "# x = x * (-1) ** x\n",
    "# A = np.stack(np.split(x, 3), 1) + 1\n",
    "# A\n",
    "np.random.seed(10)\n",
    "A = 10 * np.random.randn(4, 6)\n",
    "\n",
    "Q, R = linalg.qr(A, mode='economic')"
   ]
  },
  {
   "cell_type": "code",
   "execution_count": 54,
   "metadata": {},
   "outputs": [
    {
     "data": {
      "text/plain": [
       "array([[-22.313,   7.234,  23.364,  13.782, -10.909, -12.417],\n",
       "       [  0.   , -14.911,   2.846,  -8.841,   1.177,  12.893],\n",
       "       [  0.   ,   0.   ,   9.011,   6.586,   8.556, -11.471],\n",
       "       [  0.   ,   0.   ,   0.   ,  -3.915,   0.166,  17.754]])"
      ]
     },
     "execution_count": 54,
     "metadata": {},
     "output_type": "execute_result"
    }
   ],
   "source": [
    "R"
   ]
  },
  {
   "cell_type": "code",
   "execution_count": 46,
   "metadata": {},
   "outputs": [
    {
     "data": {
      "text/plain": [
       "array([[21.921,  4.867],\n",
       "       [ 0.   , 15.109]])"
      ]
     },
     "execution_count": 46,
     "metadata": {},
     "output_type": "execute_result"
    }
   ],
   "source": [
    "A1 = A[:3, :]\n",
    "A2 = A[3:, :]\n",
    "Q, R = linalg.qr(A1, mode='economic')\n",
    "Q1, R1  = linalg.qr_insert(Q, R, A2, k=Q.shape[0])\n",
    "R1"
   ]
  },
  {
   "cell_type": "code",
   "execution_count": 48,
   "metadata": {},
   "outputs": [
    {
     "data": {
      "text/plain": [
       "array([[480.547, 106.702],\n",
       "       [106.702, 251.978]])"
      ]
     },
     "execution_count": 48,
     "metadata": {},
     "output_type": "execute_result"
    }
   ],
   "source": []
  },
  {
   "cell_type": "code",
   "execution_count": null,
   "metadata": {},
   "outputs": [],
   "source": []
  }
 ],
 "metadata": {
  "kernelspec": {
   "display_name": "Python 3",
   "language": "python",
   "name": "python3"
  },
  "language_info": {
   "codemirror_mode": {
    "name": "ipython",
    "version": 3
   },
   "file_extension": ".py",
   "mimetype": "text/x-python",
   "name": "python",
   "nbconvert_exporter": "python",
   "pygments_lexer": "ipython3",
   "version": "3.6.10"
  }
 },
 "nbformat": 4,
 "nbformat_minor": 4
}
